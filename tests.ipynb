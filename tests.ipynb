{
 "cells": [
  {
   "cell_type": "code",
   "execution_count": 4,
   "metadata": {},
   "outputs": [
    {
     "name": "stdout",
     "output_type": "stream",
     "text": [
      "              Parameter Name  \\\n",
      "0         Simulation Horizon   \n",
      "1              Initial Month   \n",
      "2       Initial Total Inflow   \n",
      "3   Number of Days per Month   \n",
      "4            Reservoir Names   \n",
      "5            Catchment Names   \n",
      "6  Irrigation District Names   \n",
      "7      Integration Step Size   \n",
      "8       Filling Time of GERD   \n",
      "\n",
      "                                               Value    Unit  \\\n",
      "0                                                240  months   \n",
      "1                                                  1    Dmnl   \n",
      "2                                            1441.99    m3/s   \n",
      "3   [31, 28, 31, 30, 31, 30, 31, 31, 30, 31, 30, 31]    days   \n",
      "4               [\"GERD\", \"Roseires\",\"Sennar\", \"HAD\"]    Dmnl   \n",
      "5  [\"BlueNile\",\"GERDToRoseires\",\"RoseiresToAbuNaa...    Dmnl   \n",
      "6  [\"USSennar\", \"Gezira\", \"DSSennar\", \"Taminiat\",...    Dmnl   \n",
      "7                                       half-an-hour    Dmnl   \n",
      "8                                                  5   years   \n",
      "\n",
      "              in Python Data Type  \n",
      "0    simulation_horizon       int  \n",
      "1            init_month       int  \n",
      "2           inflowTOT00     float  \n",
      "3  nu_of_days_per_month  np.array  \n",
      "4       reservoir_names      list  \n",
      "5       catchment_names      list  \n",
      "6    irr_district_names      list  \n",
      "7  integration_interval       str  \n",
      "8     GERD_filling_time       int  \n"
     ]
    }
   ],
   "source": [
    "#pd.read_excel(filepath, sheet_name=\"ModelParameters\")\n",
    "\n",
    "#read_settings_file(\"/settings/settings_file_Nile.xlsx\")\n",
    "\n",
    "import pandas as pd\n",
    "filepath = 'settings/settings_file_Nile.xlsx'\n",
    "model_parameters = pd.read_excel(filepath, sheet_name=\"ModelParameters\")\n",
    "print(model_parameters)\n",
    "\n"
   ]
  },
  {
   "cell_type": "code",
   "execution_count": null,
   "metadata": {},
   "outputs": [],
   "source": [
    "def read_settings_file(filepath):\n",
    "    model_parameters = pd.read_excel(filepath, sheet_name=\"ModelParameters\")\n",
    "    for _, row in model_parameters.iterrows():\n",
    "        name = row[\"in Python\"]\n",
    "        if row[\"Data Type\"] == \"str\":\n",
    "            value = row[\"Value\"]\n",
    "        else:\n",
    "            value = eval(str(row[\"Value\"]))\n",
    "        if row[\"Data Type\"] == \"np.array\":\n",
    "            value = np.array(value)\n",
    "        setattr(self, name, value)\n"
   ]
  }
 ],
 "metadata": {
  "kernelspec": {
   "display_name": "test",
   "language": "python",
   "name": "python3"
  },
  "language_info": {
   "codemirror_mode": {
    "name": "ipython",
    "version": 3
   },
   "file_extension": ".py",
   "mimetype": "text/x-python",
   "name": "python",
   "nbconvert_exporter": "python",
   "pygments_lexer": "ipython3",
   "version": "3.10.4"
  },
  "orig_nbformat": 4,
  "vscode": {
   "interpreter": {
    "hash": "0cf5306b16bafd0a24735b6d6a7766cae62970b38ae9074a12439032e5996ba8"
   }
  }
 },
 "nbformat": 4,
 "nbformat_minor": 2
}
