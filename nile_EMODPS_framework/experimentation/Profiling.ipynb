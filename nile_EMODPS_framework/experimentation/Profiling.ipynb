{
 "cells": [
  {
   "cell_type": "markdown",
   "metadata": {
    "collapsed": true,
    "pycharm": {
     "name": "#%% md\n"
    }
   },
   "source": [
    "# Profiling notebook\n",
    "This notebook is used for testing the time it takes to run the Nile model."
   ]
  },
  {
   "cell_type": "code",
   "execution_count": 1,
   "metadata": {},
   "outputs": [],
   "source": [
    "import os\n",
    "import numpy as np\n",
    "import pandas as pd\n",
    "\n",
    "from data_generation import generate_input_data\n",
    "\n",
    "os.chdir(\"../Model\")\n",
    "from model_nile import ModelNile"
   ]
  },
  {
   "cell_type": "code",
   "execution_count": 2,
   "metadata": {},
   "outputs": [],
   "source": [
    "model = ModelNile()"
   ]
  },
  {
   "cell_type": "code",
   "execution_count": 3,
   "metadata": {},
   "outputs": [],
   "source": [
    "model = generate_input_data(model)"
   ]
  },
  {
   "cell_type": "code",
   "execution_count": 4,
   "metadata": {},
   "outputs": [],
   "source": [
    "pcount = model.overarching_policy.get_total_parameter_count()\n",
    "np.random.seed(123)\n",
    "random_policy = np.random.rand(pcount)\n",
    "zero_policy = np.repeat(0, pcount)"
   ]
  },
  {
   "cell_type": "code",
   "execution_count": 5,
   "metadata": {},
   "outputs": [],
   "source": [
    "import cProfile"
   ]
  },
  {
   "cell_type": "code",
   "execution_count": 6,
   "metadata": {},
   "outputs": [
    {
     "name": "stdout",
     "output_type": "stream",
     "text": [
      "         40202423 function calls (36671114 primitive calls) in 38.459 seconds\n",
      "\n",
      "   Ordered by: standard name\n",
      "\n",
      "   ncalls  tottime  percall  cumtime  percall filename:lineno(function)\n",
      "        4    0.000    0.000    0.000    0.000 <__array_function__ internals>:177(all)\n",
      "        2    0.000    0.000    0.000    0.000 <__array_function__ internals>:177(any)\n",
      "  1414240    0.583    0.000   10.330    0.000 <__array_function__ internals>:177(append)\n",
      "  1414242    0.756    0.000    3.693    0.000 <__array_function__ internals>:177(concatenate)\n",
      "        4    0.000    0.000    0.000    0.000 <__array_function__ internals>:177(copyto)\n",
      "   702815    0.276    0.000    2.997    0.000 <__array_function__ internals>:177(interp)\n",
      "   702815    0.249    0.000    0.818    0.000 <__array_function__ internals>:177(iscomplexobj)\n",
      "      960    0.001    0.000    0.029    0.000 <__array_function__ internals>:177(mean)\n",
      "        2    0.000    0.000    0.000    0.000 <__array_function__ internals>:177(percentile)\n",
      "  1414240    0.508    0.000    3.239    0.000 <__array_function__ internals>:177(ravel)\n",
      "        1    0.000    0.000    0.000    0.000 <__array_function__ internals>:177(repeat)\n",
      "        4    0.000    0.000    0.000    0.000 <__array_function__ internals>:177(sum)\n",
      "        2    0.000    0.000    0.000    0.000 <__array_function__ internals>:177(take)\n",
      "        1    0.000    0.000   38.459   38.459 <string>:1(<module>)\n",
      "        1    0.000    0.000    0.000    0.000 ElementTree.py:1251(iterator)\n",
      "        1    0.000    0.000    0.000    0.000 ElementTree.py:1319(read_events)\n",
      "      960    0.006    0.000    0.024    0.000 _methods.py:162(_mean)\n",
      "        2    0.000    0.000    0.000    0.000 _methods.py:54(_any)\n",
      "        4    0.000    0.000    0.000    0.000 _methods.py:60(_all)\n",
      "      960    0.008    0.000    0.008    0.000 _methods.py:66(_count_reduce_items)\n",
      "  1414240    0.164    0.000    0.164    0.000 fromnumeric.py:1751(_ravel_dispatcher)\n",
      "  1414240    0.621    0.000    1.669    0.000 fromnumeric.py:1755(ravel)\n",
      "        4    0.000    0.000    0.000    0.000 fromnumeric.py:2155(_sum_dispatcher)\n",
      "        4    0.000    0.000    0.000    0.000 fromnumeric.py:2160(sum)\n",
      "        2    0.000    0.000    0.000    0.000 fromnumeric.py:2300(_any_dispatcher)\n",
      "        2    0.000    0.000    0.000    0.000 fromnumeric.py:2305(any)\n",
      "        4    0.000    0.000    0.000    0.000 fromnumeric.py:2399(_all_dispatcher)\n",
      "        4    0.000    0.000    0.000    0.000 fromnumeric.py:2404(all)\n",
      "      960    0.000    0.000    0.000    0.000 fromnumeric.py:3351(_mean_dispatcher)\n",
      "      960    0.003    0.000    0.028    0.000 fromnumeric.py:3356(mean)\n",
      "        1    0.000    0.000    0.000    0.000 fromnumeric.py:38(_wrapit)\n",
      "        1    0.000    0.000    0.000    0.000 fromnumeric.py:432(_repeat_dispatcher)\n",
      "        1    0.000    0.000    0.000    0.000 fromnumeric.py:436(repeat)\n",
      "        3    0.000    0.000    0.000    0.000 fromnumeric.py:51(_wrapfunc)\n",
      "       10    0.000    0.000    0.000    0.000 fromnumeric.py:69(_wrapreduction)\n",
      "       10    0.000    0.000    0.000    0.000 fromnumeric.py:70(<dictcomp>)\n",
      "        2    0.000    0.000    0.000    0.000 fromnumeric.py:89(_take_dispatcher)\n",
      "        2    0.000    0.000    0.000    0.000 fromnumeric.py:93(take)\n",
      "   702815    0.083    0.000    0.083    0.000 function_base.py:1428(_interp_dispatcher)\n",
      "   702815    0.444    0.000    2.059    0.000 function_base.py:1432(interp)\n",
      "        2    0.000    0.000    0.000    0.000 function_base.py:3651(_ureduce)\n",
      "        2    0.000    0.000    0.000    0.000 function_base.py:3856(_percentile_dispatcher)\n",
      "        2    0.000    0.000    0.000    0.000 function_base.py:3861(percentile)\n",
      "        2    0.000    0.000    0.000    0.000 function_base.py:4375(_quantile_unchecked)\n",
      "        2    0.000    0.000    0.000    0.000 function_base.py:4396(_quantile_is_valid)\n",
      "        2    0.000    0.000    0.000    0.000 function_base.py:4408(_check_interpolation_as_method)\n",
      "        2    0.000    0.000    0.000    0.000 function_base.py:4495(_get_gamma_mask)\n",
      "        2    0.000    0.000    0.000    0.000 function_base.py:4501(_discret_interpolation_to_boundaries)\n",
      "        2    0.000    0.000    0.000    0.000 function_base.py:4515(_closest_observation)\n",
      "        2    0.000    0.000    0.000    0.000 function_base.py:4516(<lambda>)\n",
      "        2    0.000    0.000    0.000    0.000 function_base.py:4527(_quantile_ureduce_func)\n",
      "        2    0.000    0.000    0.000    0.000 function_base.py:4595(_quantile)\n",
      "  1414240    0.183    0.000    0.183    0.000 function_base.py:5333(_append_dispatcher)\n",
      "  1414240    1.175    0.000    8.273    0.000 function_base.py:5337(append)\n",
      "        2    0.000    0.000    0.000    0.000 function_base.py:85(<lambda>)\n",
      "      960    0.003    0.000    0.004    0.000 hydropower_plant.py:18(calculate_hydropower_production)\n",
      "        1    0.000    0.000    0.000    0.000 model_nile.py:116(<listcomp>)\n",
      "        1    0.018    0.018   38.455   38.455 model_nile.py:131(simulate)\n",
      "      240    0.000    0.000    0.000    0.000 model_nile.py:155(<listcomp>)\n",
      "      240    0.000    0.000    0.000    0.000 model_nile.py:164(<dictcomp>)\n",
      "      240    0.001    0.000    0.001    0.000 model_nile.py:244(<listcomp>)\n",
      "     1440    0.001    0.000    0.001    0.000 model_nile.py:272(deficit_from_target)\n",
      "        1    0.000    0.000    0.000    0.000 model_nile.py:304(reset_parameters)\n",
      "        1    0.000    0.000   38.459   38.459 model_nile.py:89(evaluate)\n",
      "        4    0.000    0.000    0.000    0.000 multiarray.py:1071(copyto)\n",
      "  1414242    0.144    0.000    0.144    0.000 multiarray.py:148(concatenate)\n",
      "        2    0.000    0.000    0.000    0.000 numeric.py:289(full)\n",
      "        8    0.000    0.000    0.000    0.000 numerictypes.py:282(issubclass_)\n",
      "        4    0.000    0.000    0.000    0.000 numerictypes.py:356(issubdtype)\n",
      "  1401600    0.696    0.000    7.801    0.000 reservoir.py:114(level_to_surface)\n",
      "  1401600    0.763    0.000    7.175    0.000 reservoir.py:123(level_to_minmax)\n",
      "      960    7.650    0.008   38.325    0.040 reservoir.py:133(integration)\n",
      "  1402560    1.710    0.000    4.483    0.000 reservoir.py:95(storage_to_level)\n",
      "      240    0.001    0.000    0.008    0.000 smash.py:111(denormalize_vector)\n",
      "       10    0.000    0.000    0.000    0.000 smash.py:192(__init__)\n",
      "        1    0.000    0.000    0.003    0.003 smash.py:208(set_parameters)\n",
      "      240    0.031    0.000    0.056    0.000 smash.py:233(get_output)\n",
      "        1    0.000    0.000    0.000    0.000 smash.py:269(get_free_parameter_number)\n",
      "        1    0.000    0.000    0.003    0.003 smash.py:41(assign_free_parameters)\n",
      "      240    0.001    0.000    0.076    0.000 smash.py:76(get_output_norm)\n",
      "      240    0.002    0.000    0.012    0.000 smash.py:84(normalize_vector)\n",
      "   702815    0.083    0.000    0.083    0.000 type_check.py:206(_is_type_dispatcher)\n",
      "   702815    0.222    0.000    0.305    0.000 type_check.py:303(iscomplexobj)\n",
      "        1    0.000    0.000    0.000    0.000 zipfile.py:1805(__del__)\n",
      "        1    0.000    0.000    0.000    0.000 zipfile.py:1809(close)\n",
      "        2    0.000    0.000    0.000    0.000 {built-in method _warnings.warn}\n",
      "        1    0.000    0.000   38.459   38.459 {built-in method builtins.exec}\n",
      "       10    0.000    0.000    0.000    0.000 {built-in method builtins.getattr}\n",
      "      960    0.001    0.000    0.001    0.000 {built-in method builtins.hasattr}\n",
      "  1415204    0.215    0.000    0.215    0.000 {built-in method builtins.isinstance}\n",
      "   704747    0.083    0.000    0.083    0.000 {built-in method builtins.issubclass}\n",
      "        1    0.000    0.000    0.000    0.000 {built-in method builtins.len}\n",
      "  1405261    0.258    0.000    0.258    0.000 {built-in method builtins.max}\n",
      "  2806560    0.658    0.000    0.658    0.000 {built-in method builtins.min}\n",
      "    14400    0.002    0.000    0.002    0.000 {built-in method builtins.pow}\n",
      "  2803200   13.292    0.000   13.292    0.000 {built-in method builtins.round}\n",
      "       32    0.000    0.000    0.000    0.000 {built-in method builtins.setattr}\n",
      "      240    0.000    0.000    0.000    0.000 {built-in method builtins.sum}\n",
      "      961    0.008    0.000    0.008    0.000 {built-in method numpy.arange}\n",
      "      240    0.001    0.000    0.001    0.000 {built-in method numpy.array}\n",
      "  2829448    0.638    0.000    0.638    0.000 {built-in method numpy.asanyarray}\n",
      "   702818    0.084    0.000    0.084    0.000 {built-in method numpy.asarray}\n",
      "5649331/2118022    5.744    0.000   12.231    0.000 {built-in method numpy.core._multiarray_umath.implement_array_function}\n",
      "   702815    0.714    0.000    0.714    0.000 {built-in method numpy.core._multiarray_umath.interp}\n",
      "      960    0.000    0.000    0.000    0.000 {built-in method numpy.core._multiarray_umath.normalize_axis_index}\n",
      "     1984    0.002    0.000    0.002    0.000 {built-in method numpy.empty}\n",
      "        4    0.000    0.000    0.000    0.000 {method 'all' of 'numpy.generic' objects}\n",
      "        2    0.000    0.000    0.000    0.000 {method 'any' of 'numpy.generic' objects}\n",
      "      250    0.000    0.000    0.000    0.000 {method 'append' of 'list' objects}\n",
      "        2    0.000    0.000    0.000    0.000 {method 'astype' of 'numpy.ndarray' objects}\n",
      "        1    0.000    0.000    0.000    0.000 {method 'disable' of '_lsprof.Profiler' objects}\n",
      "        2    0.000    0.000    0.000    0.000 {method 'flatten' of 'numpy.ndarray' objects}\n",
      "        2    0.000    0.000    0.000    0.000 {method 'get' of 'dict' objects}\n",
      "       11    0.000    0.000    0.000    0.000 {method 'items' of 'dict' objects}\n",
      "        2    0.000    0.000    0.000    0.000 {method 'partition' of 'numpy.ndarray' objects}\n",
      "  1414242    0.361    0.000    0.361    0.000 {method 'ravel' of 'numpy.ndarray' objects}\n",
      "      970    0.009    0.000    0.009    0.000 {method 'reduce' of 'numpy.ufunc' objects}\n",
      "        1    0.000    0.000    0.000    0.000 {method 'repeat' of 'numpy.ndarray' objects}\n",
      "        2    0.000    0.000    0.000    0.000 {method 'take' of 'numpy.ndarray' objects}\n",
      "     1202    0.000    0.000    0.000    0.000 {method 'values' of 'dict' objects}\n",
      "\n",
      "\n"
     ]
    }
   ],
   "source": [
    "cProfile.run(\"model.evaluate(random_policy)\")"
   ]
  },
  {
   "cell_type": "code",
   "execution_count": 7,
   "metadata": {},
   "outputs": [
    {
     "data": {
      "text/plain": [
       "802"
      ]
     },
     "execution_count": 7,
     "metadata": {},
     "output_type": "execute_result"
    }
   ],
   "source": [
    "len(model.reservoirs[\"Roseires\"].level_to_surface_memo)"
   ]
  },
  {
   "cell_type": "code",
   "execution_count": 8,
   "metadata": {},
   "outputs": [
    {
     "name": "stdout",
     "output_type": "stream",
     "text": [
      "         40477510 function calls (37217148 primitive calls) in 35.703 seconds\n",
      "\n",
      "   Ordered by: standard name\n",
      "\n",
      "   ncalls  tottime  percall  cumtime  percall filename:lineno(function)\n",
      "  1415680    0.584    0.000   11.808    0.000 <__array_function__ internals>:2(append)\n",
      "  1415680    0.717    0.000    3.319    0.000 <__array_function__ internals>:2(concatenate)\n",
      "   429002    0.165    0.000    1.891    0.000 <__array_function__ internals>:2(interp)\n",
      "   429002    0.151    0.000    0.485    0.000 <__array_function__ internals>:2(iscomplexobj)\n",
      "      960    0.001    0.000    0.026    0.000 <__array_function__ internals>:2(mean)\n",
      "  1415680    0.471    0.000    4.590    0.000 <__array_function__ internals>:2(ravel)\n",
      "        7    0.000    0.000    0.000    0.000 <__array_function__ internals>:2(sum)\n",
      "        1    0.000    0.000   35.703   35.703 <string>:1(<module>)\n",
      "  2832320    0.503    0.000    2.134    0.000 _asarray.py:110(asanyarray)\n",
      "   429002    0.082    0.000    0.181    0.000 _asarray.py:23(asarray)\n",
      "      960    0.005    0.000    0.022    0.000 _methods.py:161(_mean)\n",
      "      960    0.006    0.000    0.007    0.000 _methods.py:65(_count_reduce_items)\n",
      "  1415680    0.135    0.000    0.135    0.000 fromnumeric.py:1712(_ravel_dispatcher)\n",
      "  1415680    0.723    0.000    3.101    0.000 fromnumeric.py:1716(ravel)\n",
      "        7    0.000    0.000    0.000    0.000 fromnumeric.py:2106(_sum_dispatcher)\n",
      "        7    0.000    0.000    0.000    0.000 fromnumeric.py:2111(sum)\n",
      "      960    0.000    0.000    0.000    0.000 fromnumeric.py:3296(_mean_dispatcher)\n",
      "      960    0.003    0.000    0.024    0.000 fromnumeric.py:3301(mean)\n",
      "        7    0.000    0.000    0.000    0.000 fromnumeric.py:70(_wrapreduction)\n",
      "        7    0.000    0.000    0.000    0.000 fromnumeric.py:71(<dictcomp>)\n",
      "   429002    0.051    0.000    0.051    0.000 function_base.py:1286(_interp_dispatcher)\n",
      "   429002    0.316    0.000    1.348    0.000 function_base.py:1290(interp)\n",
      "  1415680    0.163    0.000    0.163    0.000 function_base.py:4686(_append_dispatcher)\n",
      "  1415680    1.278    0.000    9.790    0.000 function_base.py:4690(append)\n",
      "      960    0.003    0.000    0.005    0.000 hydropower_plant.py:18(calculate_hydropower_production)\n",
      "        1    0.000    0.000    0.000    0.000 model_nile.py:118(<listcomp>)\n",
      "        1    0.020    0.020   35.701   35.701 model_nile.py:128(simulate)\n",
      "      240    0.000    0.000    0.000    0.000 model_nile.py:152(<listcomp>)\n",
      "      240    0.000    0.000    0.000    0.000 model_nile.py:161(<dictcomp>)\n",
      "      240    0.001    0.000    0.001    0.000 model_nile.py:241(<listcomp>)\n",
      "     1440    0.001    0.000    0.002    0.000 model_nile.py:276(squared_deficit_from_target)\n",
      "     1440    0.001    0.000    0.002    0.000 model_nile.py:284(squared_deficit_normalised)\n",
      "        1    0.000    0.000    0.000    0.000 model_nile.py:300(reset_parameters)\n",
      "        1    0.000    0.000   35.703   35.703 model_nile.py:96(evaluate)\n",
      "  1415680    0.155    0.000    0.155    0.000 multiarray.py:143(concatenate)\n",
      "  1401600    0.681    0.000    6.505    0.000 reservoir.py:114(level_to_surface)\n",
      "  1401600    0.711    0.000    5.987    0.000 reservoir.py:123(level_to_minmax)\n",
      "      960    6.953    0.007   35.547    0.037 reservoir.py:133(integration)\n",
      "  1402560    1.534    0.000    3.418    0.000 reservoir.py:95(storage_to_level)\n",
      "      240    0.001    0.000    0.008    0.000 smash.py:111(denormalize_vector)\n",
      "       10    0.000    0.000    0.000    0.000 smash.py:192(__init__)\n",
      "        1    0.000    0.000    0.002    0.002 smash.py:208(set_parameters)\n",
      "      240    0.030    0.000    0.058    0.000 smash.py:233(get_output)\n",
      "        1    0.000    0.000    0.000    0.000 smash.py:269(get_free_parameter_number)\n",
      "        1    0.000    0.000    0.002    0.002 smash.py:41(assign_free_parameters)\n",
      "      240    0.001    0.000    0.080    0.000 smash.py:76(get_output_norm)\n",
      "      240    0.002    0.000    0.013    0.000 smash.py:84(normalize_vector)\n",
      "   429002    0.041    0.000    0.041    0.000 type_check.py:206(_is_type_dispatcher)\n",
      "   429002    0.138    0.000    0.181    0.000 type_check.py:279(iscomplexobj)\n",
      "        1    0.000    0.000   35.703   35.703 {built-in method builtins.exec}\n",
      "      960    0.001    0.000    0.001    0.000 {built-in method builtins.hasattr}\n",
      "  1416647    0.198    0.000    0.198    0.000 {built-in method builtins.isinstance}\n",
      "   430922    0.043    0.000    0.043    0.000 {built-in method builtins.issubclass}\n",
      "  1405200    0.237    0.000    0.237    0.000 {built-in method builtins.max}\n",
      "  2806560    0.694    0.000    0.694    0.000 {built-in method builtins.min}\n",
      "    17280    0.004    0.000    0.004    0.000 {built-in method builtins.pow}\n",
      "  2803200   11.092    0.000   11.092    0.000 {built-in method builtins.round}\n",
      "       38    0.000    0.000    0.000    0.000 {built-in method builtins.setattr}\n",
      "      240    0.000    0.000    0.000    0.000 {built-in method builtins.sum}\n",
      "      961    0.007    0.000    0.007    0.000 {built-in method numpy.arange}\n",
      "  3261562    1.731    0.000    1.731    0.000 {built-in method numpy.array}\n",
      "5106011/1845649    5.041    0.000   12.761    0.000 {built-in method numpy.core._multiarray_umath.implement_array_function}\n",
      "   429002    0.367    0.000    0.367    0.000 {built-in method numpy.core._multiarray_umath.interp}\n",
      "      960    0.000    0.000    0.000    0.000 {built-in method numpy.core._multiarray_umath.normalize_axis_index}\n",
      "     1991    0.002    0.000    0.002    0.000 {built-in method numpy.empty}\n",
      "      250    0.000    0.000    0.000    0.000 {method 'append' of 'list' objects}\n",
      "        1    0.000    0.000    0.000    0.000 {method 'disable' of '_lsprof.Profiler' objects}\n",
      "        8    0.000    0.000    0.000    0.000 {method 'items' of 'dict' objects}\n",
      "  1415680    0.650    0.000    0.650    0.000 {method 'ravel' of 'numpy.ndarray' objects}\n",
      "      967    0.008    0.000    0.008    0.000 {method 'reduce' of 'numpy.ufunc' objects}\n",
      "     1202    0.000    0.000    0.000    0.000 {method 'values' of 'dict' objects}\n",
      "\n",
      "\n"
     ]
    }
   ],
   "source": [
    "cProfile.run(\"model.evaluate(random_policy)\")"
   ]
  },
  {
   "cell_type": "code",
   "execution_count": 9,
   "metadata": {},
   "outputs": [
    {
     "name": "stdout",
     "output_type": "stream",
     "text": [
      "         35329486 function calls (32498126 primitive calls) in 33.349 seconds\n",
      "\n",
      "   Ordered by: standard name\n",
      "\n",
      "   ncalls  tottime  percall  cumtime  percall filename:lineno(function)\n",
      "  1415680    0.571    0.000   11.732    0.000 <__array_function__ internals>:2(append)\n",
      "  1415680    0.718    0.000    3.281    0.000 <__array_function__ internals>:2(concatenate)\n",
      "      960    0.001    0.000    0.024    0.000 <__array_function__ internals>:2(mean)\n",
      "  1415680    0.469    0.000    4.571    0.000 <__array_function__ internals>:2(ravel)\n",
      "        7    0.000    0.000    0.000    0.000 <__array_function__ internals>:2(sum)\n",
      "        1    0.000    0.000   33.349   33.349 <string>:1(<module>)\n",
      "  2832320    0.505    0.000    2.138    0.000 _asarray.py:110(asanyarray)\n",
      "      960    0.005    0.000    0.020    0.000 _methods.py:161(_mean)\n",
      "      960    0.006    0.000    0.006    0.000 _methods.py:65(_count_reduce_items)\n",
      "  1415680    0.135    0.000    0.135    0.000 fromnumeric.py:1712(_ravel_dispatcher)\n",
      "  1415680    0.724    0.000    3.087    0.000 fromnumeric.py:1716(ravel)\n",
      "        7    0.000    0.000    0.000    0.000 fromnumeric.py:2106(_sum_dispatcher)\n",
      "        7    0.000    0.000    0.000    0.000 fromnumeric.py:2111(sum)\n",
      "      960    0.000    0.000    0.000    0.000 fromnumeric.py:3296(_mean_dispatcher)\n",
      "      960    0.002    0.000    0.023    0.000 fromnumeric.py:3301(mean)\n",
      "        7    0.000    0.000    0.000    0.000 fromnumeric.py:70(_wrapreduction)\n",
      "        7    0.000    0.000    0.000    0.000 fromnumeric.py:71(<dictcomp>)\n",
      "  1415680    0.162    0.000    0.162    0.000 function_base.py:4686(_append_dispatcher)\n",
      "  1415680    1.249    0.000    9.711    0.000 function_base.py:4690(append)\n",
      "      960    0.003    0.000    0.005    0.000 hydropower_plant.py:18(calculate_hydropower_production)\n",
      "        1    0.000    0.000    0.000    0.000 model_nile.py:118(<listcomp>)\n",
      "        1    0.018    0.018   33.346   33.346 model_nile.py:128(simulate)\n",
      "      240    0.000    0.000    0.000    0.000 model_nile.py:152(<listcomp>)\n",
      "      240    0.000    0.000    0.000    0.000 model_nile.py:161(<dictcomp>)\n",
      "      240    0.001    0.000    0.001    0.000 model_nile.py:241(<listcomp>)\n",
      "     1440    0.001    0.000    0.002    0.000 model_nile.py:276(squared_deficit_from_target)\n",
      "     1440    0.001    0.000    0.002    0.000 model_nile.py:284(squared_deficit_normalised)\n",
      "        1    0.000    0.000    0.000    0.000 model_nile.py:300(reset_parameters)\n",
      "        1    0.000    0.000   33.349   33.349 model_nile.py:96(evaluate)\n",
      "  1415680    0.151    0.000    0.151    0.000 multiarray.py:143(concatenate)\n",
      "  1401600    0.671    0.000    6.458    0.000 reservoir.py:114(level_to_surface)\n",
      "  1401600    0.703    0.000    5.978    0.000 reservoir.py:123(level_to_minmax)\n",
      "      960    6.889    0.007   33.193    0.035 reservoir.py:133(integration)\n",
      "  1402560    1.260    0.000    1.260    0.000 reservoir.py:95(storage_to_level)\n",
      "      240    0.001    0.000    0.008    0.000 smash.py:111(denormalize_vector)\n",
      "       10    0.000    0.000    0.000    0.000 smash.py:192(__init__)\n",
      "        1    0.000    0.000    0.003    0.003 smash.py:208(set_parameters)\n",
      "      240    0.030    0.000    0.058    0.000 smash.py:233(get_output)\n",
      "        1    0.000    0.000    0.000    0.000 smash.py:269(get_free_parameter_number)\n",
      "        1    0.000    0.000    0.003    0.003 smash.py:41(assign_free_parameters)\n",
      "      240    0.001    0.000    0.080    0.000 smash.py:76(get_output_norm)\n",
      "      240    0.002    0.000    0.013    0.000 smash.py:84(normalize_vector)\n",
      "        1    0.000    0.000   33.349   33.349 {built-in method builtins.exec}\n",
      "      960    0.001    0.000    0.001    0.000 {built-in method builtins.hasattr}\n",
      "  1416647    0.192    0.000    0.192    0.000 {built-in method builtins.isinstance}\n",
      "     1920    0.000    0.000    0.000    0.000 {built-in method builtins.issubclass}\n",
      "  1405200    0.238    0.000    0.238    0.000 {built-in method builtins.max}\n",
      "  2806560    0.696    0.000    0.696    0.000 {built-in method builtins.min}\n",
      "    17280    0.004    0.000    0.004    0.000 {built-in method builtins.pow}\n",
      "  2803200   11.062    0.000   11.062    0.000 {built-in method builtins.round}\n",
      "       38    0.000    0.000    0.000    0.000 {built-in method builtins.setattr}\n",
      "      240    0.000    0.000    0.000    0.000 {built-in method builtins.sum}\n",
      "      961    0.007    0.000    0.007    0.000 {built-in method numpy.arange}\n",
      "  2832560    1.635    0.000    1.635    0.000 {built-in method numpy.array}\n",
      "4248007/1416647    4.583    0.000   11.023    0.000 {built-in method numpy.core._multiarray_umath.implement_array_function}\n",
      "      960    0.000    0.000    0.000    0.000 {built-in method numpy.core._multiarray_umath.normalize_axis_index}\n",
      "     1991    0.002    0.000    0.002    0.000 {built-in method numpy.empty}\n",
      "      250    0.000    0.000    0.000    0.000 {method 'append' of 'list' objects}\n",
      "        1    0.000    0.000    0.000    0.000 {method 'disable' of '_lsprof.Profiler' objects}\n",
      "        8    0.000    0.000    0.000    0.000 {method 'items' of 'dict' objects}\n",
      "  1415680    0.642    0.000    0.642    0.000 {method 'ravel' of 'numpy.ndarray' objects}\n",
      "      967    0.008    0.000    0.008    0.000 {method 'reduce' of 'numpy.ufunc' objects}\n",
      "     1202    0.000    0.000    0.000    0.000 {method 'values' of 'dict' objects}\n",
      "\n",
      "\n"
     ]
    }
   ],
   "source": [
    "cProfile.run(\"model.evaluate(random_policy)\")"
   ]
  },
  {
   "cell_type": "code",
   "execution_count": 10,
   "metadata": {},
   "outputs": [
    {
     "name": "stdout",
     "output_type": "stream",
     "text": [
      "         35329486 function calls (32498126 primitive calls) in 33.331 seconds\n",
      "\n",
      "   Ordered by: standard name\n",
      "\n",
      "   ncalls  tottime  percall  cumtime  percall filename:lineno(function)\n",
      "  1415680    0.572    0.000   11.715    0.000 <__array_function__ internals>:2(append)\n",
      "  1415680    0.714    0.000    3.303    0.000 <__array_function__ internals>:2(concatenate)\n",
      "      960    0.001    0.000    0.016    0.000 <__array_function__ internals>:2(mean)\n",
      "  1415680    0.464    0.000    4.545    0.000 <__array_function__ internals>:2(ravel)\n",
      "        7    0.000    0.000    0.000    0.000 <__array_function__ internals>:2(sum)\n",
      "        1    0.000    0.000   33.331   33.331 <string>:1(<module>)\n",
      "  2832320    0.504    0.000    2.128    0.000 _asarray.py:110(asanyarray)\n",
      "      960    0.003    0.000    0.013    0.000 _methods.py:161(_mean)\n",
      "      960    0.003    0.000    0.004    0.000 _methods.py:65(_count_reduce_items)\n",
      "  1415680    0.134    0.000    0.134    0.000 fromnumeric.py:1712(_ravel_dispatcher)\n",
      "  1415680    0.709    0.000    3.066    0.000 fromnumeric.py:1716(ravel)\n",
      "        7    0.000    0.000    0.000    0.000 fromnumeric.py:2106(_sum_dispatcher)\n",
      "        7    0.000    0.000    0.000    0.000 fromnumeric.py:2111(sum)\n",
      "      960    0.000    0.000    0.000    0.000 fromnumeric.py:3296(_mean_dispatcher)\n",
      "      960    0.002    0.000    0.015    0.000 fromnumeric.py:3301(mean)\n",
      "        7    0.000    0.000    0.000    0.000 fromnumeric.py:70(_wrapreduction)\n",
      "        7    0.000    0.000    0.000    0.000 fromnumeric.py:71(<dictcomp>)\n",
      "  1415680    0.162    0.000    0.162    0.000 function_base.py:4686(_append_dispatcher)\n",
      "  1415680    1.249    0.000    9.700    0.000 function_base.py:4690(append)\n",
      "      960    0.003    0.000    0.004    0.000 hydropower_plant.py:18(calculate_hydropower_production)\n",
      "        1    0.000    0.000    0.000    0.000 model_nile.py:118(<listcomp>)\n",
      "        1    0.015    0.015   33.328   33.328 model_nile.py:128(simulate)\n",
      "      240    0.000    0.000    0.000    0.000 model_nile.py:152(<listcomp>)\n",
      "      240    0.000    0.000    0.000    0.000 model_nile.py:161(<dictcomp>)\n",
      "      240    0.001    0.000    0.001    0.000 model_nile.py:241(<listcomp>)\n",
      "     1440    0.001    0.000    0.002    0.000 model_nile.py:276(squared_deficit_from_target)\n",
      "     1440    0.001    0.000    0.002    0.000 model_nile.py:284(squared_deficit_normalised)\n",
      "        1    0.000    0.000    0.000    0.000 model_nile.py:300(reset_parameters)\n",
      "        1    0.000    0.000   33.331   33.331 model_nile.py:96(evaluate)\n",
      "  1415680    0.153    0.000    0.153    0.000 multiarray.py:143(concatenate)\n",
      "  1401600    0.665    0.000    6.477    0.000 reservoir.py:114(level_to_surface)\n",
      "  1401600    0.708    0.000    5.991    0.000 reservoir.py:123(level_to_minmax)\n",
      "      960    6.878    0.007   33.181    0.035 reservoir.py:133(integration)\n",
      "  1402560    1.258    0.000    1.258    0.000 reservoir.py:95(storage_to_level)\n",
      "      240    0.001    0.000    0.008    0.000 smash.py:111(denormalize_vector)\n",
      "       10    0.000    0.000    0.000    0.000 smash.py:192(__init__)\n",
      "        1    0.000    0.000    0.003    0.003 smash.py:208(set_parameters)\n",
      "      240    0.029    0.000    0.057    0.000 smash.py:233(get_output)\n",
      "        1    0.000    0.000    0.000    0.000 smash.py:269(get_free_parameter_number)\n",
      "        1    0.000    0.000    0.003    0.003 smash.py:41(assign_free_parameters)\n",
      "      240    0.001    0.000    0.079    0.000 smash.py:76(get_output_norm)\n",
      "      240    0.002    0.000    0.013    0.000 smash.py:84(normalize_vector)\n",
      "        1    0.000    0.000   33.331   33.331 {built-in method builtins.exec}\n",
      "      960    0.000    0.000    0.000    0.000 {built-in method builtins.hasattr}\n",
      "  1416647    0.192    0.000    0.192    0.000 {built-in method builtins.isinstance}\n",
      "     1920    0.000    0.000    0.000    0.000 {built-in method builtins.issubclass}\n",
      "  1405200    0.236    0.000    0.236    0.000 {built-in method builtins.max}\n",
      "  2806560    0.693    0.000    0.693    0.000 {built-in method builtins.min}\n",
      "    17280    0.004    0.000    0.004    0.000 {built-in method builtins.pow}\n",
      "  2803200   11.096    0.000   11.096    0.000 {built-in method builtins.round}\n",
      "       38    0.000    0.000    0.000    0.000 {built-in method builtins.setattr}\n",
      "      240    0.000    0.000    0.000    0.000 {built-in method builtins.sum}\n",
      "      961    0.006    0.000    0.006    0.000 {built-in method numpy.arange}\n",
      "  2832560    1.625    0.000    1.625    0.000 {built-in method numpy.array}\n",
      "4248007/1416647    4.599    0.000   10.996    0.000 {built-in method numpy.core._multiarray_umath.implement_array_function}\n",
      "      960    0.000    0.000    0.000    0.000 {built-in method numpy.core._multiarray_umath.normalize_axis_index}\n",
      "     1991    0.002    0.000    0.002    0.000 {built-in method numpy.empty}\n",
      "      250    0.000    0.000    0.000    0.000 {method 'append' of 'list' objects}\n",
      "        1    0.000    0.000    0.000    0.000 {method 'disable' of '_lsprof.Profiler' objects}\n",
      "        8    0.000    0.000    0.000    0.000 {method 'items' of 'dict' objects}\n",
      "  1415680    0.640    0.000    0.640    0.000 {method 'ravel' of 'numpy.ndarray' objects}\n",
      "      967    0.005    0.000    0.005    0.000 {method 'reduce' of 'numpy.ufunc' objects}\n",
      "     1202    0.000    0.000    0.000    0.000 {method 'values' of 'dict' objects}\n",
      "\n",
      "\n"
     ]
    }
   ],
   "source": [
    "cProfile.run(\"model.evaluate(random_policy)\")"
   ]
  },
  {
   "cell_type": "code",
   "execution_count": 11,
   "metadata": {},
   "outputs": [
    {
     "name": "stdout",
     "output_type": "stream",
     "text": [
      "         35329486 function calls (32498126 primitive calls) in 33.359 seconds\n",
      "\n",
      "   Ordered by: standard name\n",
      "\n",
      "   ncalls  tottime  percall  cumtime  percall filename:lineno(function)\n",
      "  1415680    0.557    0.000   11.763    0.000 <__array_function__ internals>:2(append)\n",
      "  1415680    0.705    0.000    3.294    0.000 <__array_function__ internals>:2(concatenate)\n",
      "      960    0.001    0.000    0.017    0.000 <__array_function__ internals>:2(mean)\n",
      "  1415680    0.470    0.000    4.584    0.000 <__array_function__ internals>:2(ravel)\n",
      "        7    0.000    0.000    0.000    0.000 <__array_function__ internals>:2(sum)\n",
      "        1    0.000    0.000   33.359   33.359 <string>:1(<module>)\n",
      "  2832320    0.509    0.000    2.144    0.000 _asarray.py:110(asanyarray)\n",
      "      960    0.004    0.000    0.014    0.000 _methods.py:161(_mean)\n",
      "      960    0.004    0.000    0.004    0.000 _methods.py:65(_count_reduce_items)\n",
      "  1415680    0.141    0.000    0.141    0.000 fromnumeric.py:1712(_ravel_dispatcher)\n",
      "  1415680    0.717    0.000    3.091    0.000 fromnumeric.py:1716(ravel)\n",
      "        7    0.000    0.000    0.000    0.000 fromnumeric.py:2106(_sum_dispatcher)\n",
      "        7    0.000    0.000    0.000    0.000 fromnumeric.py:2111(sum)\n",
      "      960    0.000    0.000    0.000    0.000 fromnumeric.py:3296(_mean_dispatcher)\n",
      "      960    0.002    0.000    0.016    0.000 fromnumeric.py:3301(mean)\n",
      "        7    0.000    0.000    0.000    0.000 fromnumeric.py:70(_wrapreduction)\n",
      "        7    0.000    0.000    0.000    0.000 fromnumeric.py:71(<dictcomp>)\n",
      "  1415680    0.168    0.000    0.168    0.000 function_base.py:4686(_append_dispatcher)\n",
      "  1415680    1.255    0.000    9.744    0.000 function_base.py:4690(append)\n",
      "      960    0.003    0.000    0.004    0.000 hydropower_plant.py:18(calculate_hydropower_production)\n",
      "        1    0.000    0.000    0.000    0.000 model_nile.py:118(<listcomp>)\n",
      "        1    0.015    0.015   33.356   33.356 model_nile.py:128(simulate)\n",
      "      240    0.000    0.000    0.000    0.000 model_nile.py:152(<listcomp>)\n",
      "      240    0.000    0.000    0.000    0.000 model_nile.py:161(<dictcomp>)\n",
      "      240    0.001    0.000    0.001    0.000 model_nile.py:241(<listcomp>)\n",
      "     1440    0.001    0.000    0.002    0.000 model_nile.py:276(squared_deficit_from_target)\n",
      "     1440    0.001    0.000    0.002    0.000 model_nile.py:284(squared_deficit_normalised)\n",
      "        1    0.000    0.000    0.000    0.000 model_nile.py:300(reset_parameters)\n",
      "        1    0.000    0.000   33.359   33.359 model_nile.py:96(evaluate)\n",
      "  1415680    0.154    0.000    0.154    0.000 multiarray.py:143(concatenate)\n",
      "  1401600    0.668    0.000    6.445    0.000 reservoir.py:114(level_to_surface)\n",
      "  1401600    0.708    0.000    5.977    0.000 reservoir.py:123(level_to_minmax)\n",
      "      960    6.901    0.007   33.208    0.035 reservoir.py:133(integration)\n",
      "  1402560    1.257    0.000    1.257    0.000 reservoir.py:95(storage_to_level)\n",
      "      240    0.001    0.000    0.008    0.000 smash.py:111(denormalize_vector)\n",
      "       10    0.000    0.000    0.000    0.000 smash.py:192(__init__)\n",
      "        1    0.000    0.000    0.002    0.002 smash.py:208(set_parameters)\n",
      "      240    0.029    0.000    0.057    0.000 smash.py:233(get_output)\n",
      "        1    0.000    0.000    0.000    0.000 smash.py:269(get_free_parameter_number)\n",
      "        1    0.000    0.000    0.002    0.002 smash.py:41(assign_free_parameters)\n",
      "      240    0.001    0.000    0.080    0.000 smash.py:76(get_output_norm)\n",
      "      240    0.002    0.000    0.013    0.000 smash.py:84(normalize_vector)\n",
      "        1    0.000    0.000   33.359   33.359 {built-in method builtins.exec}\n",
      "      960    0.000    0.000    0.000    0.000 {built-in method builtins.hasattr}\n",
      "  1416647    0.196    0.000    0.196    0.000 {built-in method builtins.isinstance}\n",
      "     1920    0.000    0.000    0.000    0.000 {built-in method builtins.issubclass}\n",
      "  1405200    0.237    0.000    0.237    0.000 {built-in method builtins.max}\n",
      "  2806560    0.694    0.000    0.694    0.000 {built-in method builtins.min}\n",
      "    17280    0.004    0.000    0.004    0.000 {built-in method builtins.pow}\n",
      "  2803200   11.046    0.000   11.046    0.000 {built-in method builtins.round}\n",
      "       38    0.000    0.000    0.000    0.000 {built-in method builtins.setattr}\n",
      "      240    0.000    0.000    0.000    0.000 {built-in method builtins.sum}\n",
      "      961    0.006    0.000    0.006    0.000 {built-in method numpy.arange}\n",
      "  2832560    1.635    0.000    1.635    0.000 {built-in method numpy.array}\n",
      "4248007/1416647    4.612    0.000   11.054    0.000 {built-in method numpy.core._multiarray_umath.implement_array_function}\n",
      "      960    0.000    0.000    0.000    0.000 {built-in method numpy.core._multiarray_umath.normalize_axis_index}\n",
      "     1991    0.002    0.000    0.002    0.000 {built-in method numpy.empty}\n",
      "      250    0.000    0.000    0.000    0.000 {method 'append' of 'list' objects}\n",
      "        1    0.000    0.000    0.000    0.000 {method 'disable' of '_lsprof.Profiler' objects}\n",
      "        8    0.000    0.000    0.000    0.000 {method 'items' of 'dict' objects}\n",
      "  1415680    0.644    0.000    0.644    0.000 {method 'ravel' of 'numpy.ndarray' objects}\n",
      "      967    0.005    0.000    0.005    0.000 {method 'reduce' of 'numpy.ufunc' objects}\n",
      "     1202    0.000    0.000    0.000    0.000 {method 'values' of 'dict' objects}\n",
      "\n",
      "\n"
     ]
    }
   ],
   "source": [
    "cProfile.run(\"model.evaluate(random_policy)\")"
   ]
  },
  {
   "cell_type": "code",
   "execution_count": 12,
   "metadata": {},
   "outputs": [
    {
     "data": {
      "text/plain": [
       "295000"
      ]
     },
     "execution_count": 12,
     "metadata": {},
     "output_type": "execute_result"
    }
   ],
   "source": [
    "from sys import getsizeof\n",
    "\n",
    "getsizeof(model.reservoirs[\"GERD\"].level_to_surface_memo)"
   ]
  },
  {
   "cell_type": "code",
   "execution_count": 13,
   "metadata": {},
   "outputs": [
    {
     "data": {
      "text/plain": [
       "0.295"
      ]
     },
     "execution_count": 13,
     "metadata": {},
     "output_type": "execute_result"
    }
   ],
   "source": [
    "295000 / 1000000"
   ]
  },
  {
   "cell_type": "code",
   "execution_count": null,
   "metadata": {},
   "outputs": [],
   "source": []
  }
 ],
 "metadata": {
  "interpreter": {
   "hash": "aee8b7b246df8f9039afb4144a1f6fd8d2ca17a180786b69acc140d282b71a49"
  },
  "kernelspec": {
   "display_name": "Python 3.9.7 64-bit",
   "name": "python3"
  },
  "language_info": {
   "codemirror_mode": {
    "name": "ipython",
    "version": 3
   },
   "file_extension": ".py",
   "mimetype": "text/x-python",
   "name": "python",
   "nbconvert_exporter": "python",
   "pygments_lexer": "ipython3",
   "version": "3.9.7"
  }
 },
 "nbformat": 4,
 "nbformat_minor": 2
}
